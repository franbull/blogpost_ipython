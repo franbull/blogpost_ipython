{
 "metadata": {
  "name": "",
  "signature": "sha256:fe7554cf79d7b66c4bb1e5b2a7b41b9846a3672b603574ffd0e1b195ea088e19"
 },
 "nbformat": 3,
 "nbformat_minor": 0,
 "worksheets": [
  {
   "cells": [
    {
     "cell_type": "markdown",
     "metadata": {},
     "source": [
      "IPython Notebooks With Interactive Matplotlib plots.\n",
      "===\n",
      "To get a virtualenv set up with the appropriate packages I needed to:\n",
      "```\n",
      "$ mkvirtualenv blogpost_ipython\n",
      "$ pip install -U distribute\n",
      "$ pip install matplotlib\n",
      "$ pip install ipython\n",
      "$ pip install pyzmq\n",
      "$ pip install jinja2\n",
      "```\n",
      "Now my pip freeze looks like this:\n",
      "```\n",
      "$ pip freeze\n",
      "Jinja2==2.7.3\n",
      "MarkupSafe==0.23\n",
      "argparse==1.2.1\n",
      "backports.ssl-match-hostname==3.4.0.2\n",
      "distribute==0.7.3\n",
      "ipython==2.1.0\n",
      "matplotlib==1.3.1\n",
      "nose==1.3.3\n",
      "numpy==1.8.1\n",
      "pyparsing==2.0.2\n",
      "python-dateutil==2.2\n",
      "pyzmq==14.3.1\n",
      "six==1.7.2\n",
      "tornado==3.2.2\n",
      "wsgiref==0.1.2\n",
      "```    \n",
      "\n",
      "Then make a directory for this work and start the notebook server:\n",
      "```\n",
      "$ mkdir blogpost_ipython\n",
      "$ cd blogpost_ipython\n",
      "\n",
      "$ ipython notebook\n",
      "```  \n",
      "and I get a message that says (among other things)\n",
      "\n",
      ">    2014-06-17 09:04:15.816 [NotebookApp] The IPython Notebook is running at: http://localhost:8888/\n",
      "    \n",
      "and a tab in chrome opens. The page has a button 'New Notebook'. Clicking that gets you a notebook that you can add new cells to. When you add Python code to the cell and press the play button in the toolbar (or press Shift+Enter) the code is executed. When opening a notebook for the first time, don't forget to execute all the cells so that for example the imports are performed.\n",
      "\n",
      "Now we're up and running we can get to the good stuff. First some cells to do our imports:"
     ]
    },
    {
     "cell_type": "code",
     "collapsed": false,
     "input": [
      "from IPython.html.widgets import interact"
     ],
     "language": "python",
     "metadata": {},
     "outputs": [],
     "prompt_number": 1
    },
    {
     "cell_type": "code",
     "collapsed": false,
     "input": [
      "%matplotlib inline\n",
      "import matplotlib.pyplot as plt\n",
      "import numpy as np"
     ],
     "language": "python",
     "metadata": {},
     "outputs": [],
     "prompt_number": 2
    },
    {
     "cell_type": "markdown",
     "metadata": {},
     "source": [
      "Now the magic. We want to pass as arguments to ```interact``` a function that draws a plot, and a description of the arguments that the plot drawing function takes. First define the plot drawing function (this is just straight ```matplotlib.pyplot```):"
     ]
    },
    {
     "cell_type": "code",
     "collapsed": false,
     "input": [
      "def plot_sine(n):\n",
      "    x = np.arange(0, 20, 0.1);\n",
      "    y = np.sin(x/n)\n",
      "    plt.plot(x, y)"
     ],
     "language": "python",
     "metadata": {},
     "outputs": [],
     "prompt_number": 3
    },
    {
     "cell_type": "markdown",
     "metadata": {},
     "source": [
      "Now call ```interact``` like so, and you should see a plot in the notebook that has a widget allowing you to vary the value of ```n```. Note however that the interactive part only works if you're running the notebook server, and you have executed the code cells. Otherwise you will just see a picture of the plot."
     ]
    },
    {
     "cell_type": "code",
     "collapsed": false,
     "input": [
      "interact(plot_sine, n=(1,10, 0.1))"
     ],
     "language": "python",
     "metadata": {},
     "outputs": [
      {
       "metadata": {},
       "output_type": "pyout",
       "prompt_number": 4,
       "text": [
        "<function __main__.plot_sine>"
       ]
      },
      {
       "metadata": {},
       "output_type": "display_data",
       "png": "[encoded data removed]",
       "text": [
        "<matplotlib.figure.Figure at 0x366ca90>"
       ]
      }
     ],
     "prompt_number": 4
    },
    {
     "cell_type": "markdown",
     "metadata": {},
     "source": [
      "And I think that's amazingly cool!"
     ]
    }
   ],
   "metadata": {}
  }
 ]
}